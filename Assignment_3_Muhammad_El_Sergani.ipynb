{
  "cells": [
    {
      "cell_type": "markdown",
      "metadata": {
        "id": "HwpjvZL-k2fo"
      },
      "source": [
        "# Assignment 3"
      ]
    },
    {
      "cell_type": "markdown",
      "metadata": {
        "id": "WoPRlHw9k2fs"
      },
      "source": [
        "### Write a function to count the number 4 in a given list."
      ]
    },
    {
      "cell_type": "code",
      "execution_count": 26,
      "metadata": {
        "collapsed": true,
        "id": "_9-xiYVgk2fs",
        "colab": {
          "base_uri": "https://localhost:8080/"
        },
        "outputId": "94c7bfdc-cb2c-42a5-d791-20b8a24f6bde"
      },
      "outputs": [
        {
          "output_type": "stream",
          "name": "stdout",
          "text": [
            "Found the number 4 at position 3.\n"
          ]
        }
      ],
      "source": [
        "# I don't fully understand this question\n",
        "def countfour(list):\n",
        "  for i in list:\n",
        "    if i == 4:\n",
        "      print(\"Found the number 4 at position {}.\".format(list.index(4)))\n",
        "\n",
        "list = [x for x in range(1,7)]\n",
        "countfour(list)"
      ]
    },
    {
      "cell_type": "markdown",
      "metadata": {
        "id": "y4lglFRPk2ft"
      },
      "source": [
        "### Write a  function to check whether a number is divisible by another number."
      ]
    },
    {
      "cell_type": "code",
      "execution_count": null,
      "metadata": {
        "collapsed": true,
        "colab": {
          "base_uri": "https://localhost:8080/"
        },
        "id": "534lTz-pk2ft",
        "outputId": "0e298b18-ab9c-49a0-a7ad-3ea9f0a1ad16"
      },
      "outputs": [
        {
          "output_type": "execute_result",
          "data": {
            "text/plain": [
              "True"
            ]
          },
          "metadata": {},
          "execution_count": 1
        }
      ],
      "source": [
        "def divisible(x,y):\n",
        "  if x % y == 0:\n",
        "    return True\n",
        "  else:\n",
        "    return False\n",
        "\n",
        "divisible(4, 2)"
      ]
    },
    {
      "cell_type": "markdown",
      "metadata": {
        "id": "lsap0Odvk2ft"
      },
      "source": [
        "### Write a function to find the maximum and minimum numbers from a sequence of numbers."
      ]
    },
    {
      "cell_type": "code",
      "execution_count": null,
      "metadata": {
        "collapsed": true,
        "colab": {
          "base_uri": "https://localhost:8080/"
        },
        "id": "j-u0n8tgk2fu",
        "outputId": "46e6e49c-cb24-40f0-d753-0ac16a378d62"
      },
      "outputs": [
        {
          "output_type": "execute_result",
          "data": {
            "text/plain": [
              "(5, 999)"
            ]
          },
          "metadata": {},
          "execution_count": 9
        }
      ],
      "source": [
        "def findminmax(*list):\n",
        "  max = 0\n",
        "  min = float(\"inf\")\n",
        "  for entry in list:\n",
        "    for num in entry:\n",
        "      if num > max:\n",
        "        max = num\n",
        "      if num < min:\n",
        "        min = num\n",
        "  return (min, max)\n",
        "\n",
        "list = [i for i in range(5,1000)]\n",
        "\n",
        "findminmax(list)"
      ]
    },
    {
      "cell_type": "markdown",
      "metadata": {
        "id": "jpB6m72dk2fv"
      },
      "source": [
        "### Write a Python function that takes two lists and returns True if they have at least one common member."
      ]
    },
    {
      "cell_type": "code",
      "execution_count": 13,
      "metadata": {
        "collapsed": true,
        "colab": {
          "base_uri": "https://localhost:8080/"
        },
        "id": "zUqPKpfRk2fv",
        "outputId": "495a3adc-d160-4d19-af19-52917421f7e2"
      },
      "outputs": [
        {
          "output_type": "execute_result",
          "data": {
            "text/plain": [
              "False"
            ]
          },
          "metadata": {},
          "execution_count": 13
        }
      ],
      "source": [
        "def havecommon(list1, list2):\n",
        "  set1 = set(list1)\n",
        "  set2 = set(list2)\n",
        "\n",
        "  set3 = set1.intersection(set2)\n",
        "\n",
        "  if len(set3) > 0:\n",
        "    return True\n",
        "  else:\n",
        "    return False\n",
        "\n",
        "list1 = [1,2,3]\n",
        "list2 = [4,5,6]\n",
        "\n",
        "havecommon(list1, list2)"
      ]
    },
    {
      "cell_type": "markdown",
      "metadata": {
        "id": "uwkmSaZDk2fv"
      },
      "source": [
        "### Write a Python function to calculate the factorial of a number (a non-negative integer). The function accepts the number from the user"
      ]
    },
    {
      "cell_type": "code",
      "execution_count": 16,
      "metadata": {
        "collapsed": true,
        "id": "NcYqZ99Fk2fw",
        "colab": {
          "base_uri": "https://localhost:8080/"
        },
        "outputId": "25fd6d88-1a55-49aa-dcd4-f17c138a29ff"
      },
      "outputs": [
        {
          "output_type": "stream",
          "name": "stdout",
          "text": [
            "Please input a +ve integer: 5\n",
            "120\n"
          ]
        }
      ],
      "source": [
        "def factorial(num):\n",
        "  if num == 1:\n",
        "    return 1\n",
        "  else:\n",
        "    return num * factorial(num - 1)\n",
        "\n",
        "num = input(\"Please input a +ve integer: \")\n",
        "num = int(num)\n",
        "\n",
        "if type(num) == int and num > 0:\n",
        "  factorial = factorial(num)\n",
        "  print(factorial)\n",
        "else: \n",
        "  print(\"Given number is either of negative value or is not an integer.\")"
      ]
    },
    {
      "cell_type": "markdown",
      "metadata": {
        "id": "u2C6nxuck2fw"
      },
      "source": [
        "### Write a Python function to check whether a number is in a given range.\n",
        "\n",
        "### The range is from 3 to 11\n"
      ]
    },
    {
      "cell_type": "code",
      "execution_count": 17,
      "metadata": {
        "collapsed": true,
        "id": "tKkCZClfk2fx",
        "colab": {
          "base_uri": "https://localhost:8080/"
        },
        "outputId": "d10650e3-ce0c-4d9a-f858-110ae17fa3f6"
      },
      "outputs": [
        {
          "output_type": "stream",
          "name": "stdout",
          "text": [
            "Number 1 is not within the given range.\n",
            "Number 1 is within the given range.\n"
          ]
        }
      ],
      "source": [
        "def inrange(num, min, max):\n",
        "  if min <= num <= max:\n",
        "    print(\"Number {} is within the given range.\".format(num))\n",
        "  else: \n",
        "    print(\"Number {} is not within the given range.\".format(num))\n",
        "\n",
        "inrange(1, 3, 5)\n",
        "inrange(1, -5, 5)"
      ]
    },
    {
      "cell_type": "markdown",
      "metadata": {
        "id": "M82aXW0Ek2fx"
      },
      "source": [
        "### Write a  program to create the multiplication table (from 1 to 10) of a number."
      ]
    },
    {
      "cell_type": "code",
      "execution_count": 18,
      "metadata": {
        "collapsed": true,
        "id": "TVZf_rRLk2fx",
        "colab": {
          "base_uri": "https://localhost:8080/"
        },
        "outputId": "871aab99-7348-4073-82a4-899f287c4f1a"
      },
      "outputs": [
        {
          "output_type": "stream",
          "name": "stdout",
          "text": [
            "5 multiplied 1 equals 5.\n",
            "5 multiplied 2 equals 10.\n",
            "5 multiplied 3 equals 15.\n",
            "5 multiplied 4 equals 20.\n",
            "5 multiplied 5 equals 25.\n",
            "5 multiplied 6 equals 30.\n",
            "5 multiplied 7 equals 35.\n",
            "5 multiplied 8 equals 40.\n",
            "5 multiplied 9 equals 45.\n",
            "5 multiplied 10 equals 50.\n"
          ]
        }
      ],
      "source": [
        "def multitable(num):\n",
        "  for i in range(1, 11):\n",
        "    print(\"{} multiplied {} equals {}.\".format(num, i, num*i))\n",
        "\n",
        "multitable(5)"
      ]
    },
    {
      "cell_type": "markdown",
      "metadata": {
        "id": "CeupzeCVk2fy"
      },
      "source": [
        "#### LESSER OF TWO EVENS: Write a function that returns the lesser of two given numbers *if* both numbers are even, but returns the greater if one or both numbers are odd\n",
        "    lesser_of_two_evens(2,4) --> 2\n",
        "    lesser_of_two_evens(2,5) --> 5"
      ]
    },
    {
      "cell_type": "code",
      "execution_count": 8,
      "metadata": {
        "id": "eSDOmDD7k2fy",
        "colab": {
          "base_uri": "https://localhost:8080/"
        },
        "outputId": "3778f12b-6cfb-4d75-b5dc-e7b65f5a39dd"
      },
      "outputs": [
        {
          "output_type": "stream",
          "name": "stdout",
          "text": [
            "10\n",
            "10\n"
          ]
        }
      ],
      "source": [
        "def lesser_of_two_evens(x, y):\n",
        "  if x % 2 == 0 and y % 2 == 0:\n",
        "    if x > y:\n",
        "      return y\n",
        "    elif y > x:\n",
        "      return x\n",
        "    else:\n",
        "      return 0\n",
        "  else:\n",
        "    if x > y:\n",
        "      return x\n",
        "    elif y > x:\n",
        "      return y\n",
        "    else:\n",
        "      return 0\n",
        "\n",
        "print(lesser_of_two_evens(5, 10))\n",
        "print(lesser_of_two_evens(10, 20))"
      ]
    },
    {
      "cell_type": "markdown",
      "metadata": {
        "id": "gq-UtXf7k2fy"
      },
      "source": [
        "#### ANIMAL CRACKERS: Write a function takes a two-word string and returns True if both words begin with same letter\n",
        "    animal_crackers('Levelheaded Llama') --> True\n",
        "    animal_crackers('Crazy Kangaroo') --> False"
      ]
    },
    {
      "cell_type": "code",
      "execution_count": 7,
      "metadata": {
        "id": "ju5IB8W_k2fz",
        "colab": {
          "base_uri": "https://localhost:8080/"
        },
        "outputId": "50972ad2-9b8d-4b10-eaf5-8a96b701e339"
      },
      "outputs": [
        {
          "output_type": "stream",
          "name": "stdout",
          "text": [
            "Please enter a two word name: Levelheaded Llama\n",
            "True\n"
          ]
        }
      ],
      "source": [
        "def checkletters(word1, word2):\n",
        "  if word1[0].lower() == word2[0].lower():\n",
        "    return True\n",
        "  else:\n",
        "    return False\n",
        "\n",
        "x = input(\"Please enter a two word name: \")\n",
        "words = x.split()\n",
        "\n",
        "if len(words) == 2:\n",
        "  print(checkletters(words[0], words[1]))\n",
        "else:\n",
        "  print(\"Not a two-word name.\")"
      ]
    },
    {
      "cell_type": "markdown",
      "metadata": {
        "id": "5z7xowSNk2fz"
      },
      "source": [
        "#### MAKES TWENTY: Given two integers, return True if the sum of the integers is 20 *or* if one of the integers is 20. If not, return False\n",
        "\n",
        "    makes_twenty(20,10) --> True\n",
        "    makes_twenty(12,8) --> True\n",
        "    makes_twenty(2,3) --> False"
      ]
    },
    {
      "cell_type": "code",
      "execution_count": 9,
      "metadata": {
        "id": "7FuAS_Z3k2fz",
        "colab": {
          "base_uri": "https://localhost:8080/"
        },
        "outputId": "dc0b32d2-1c0a-4a4b-ed69-fbbdcbdde385"
      },
      "outputs": [
        {
          "output_type": "stream",
          "name": "stdout",
          "text": [
            "True\n",
            "True\n",
            "False\n"
          ]
        }
      ],
      "source": [
        "def makes_twenty(num1, num2):\n",
        "  if num1 + num2 == 20 or num1 == 20 or num2 == 20:\n",
        "    return True\n",
        "  else:\n",
        "    return False\n",
        "\n",
        "print(makes_twenty(20,10))\n",
        "print(makes_twenty(12,8))\n",
        "print(makes_twenty(2,3))"
      ]
    },
    {
      "cell_type": "markdown",
      "metadata": {
        "id": "8Rh2FcNrk2fz"
      },
      "source": [
        "#### ALMOST THERE: Given an integer n, return True if n is within 10 of either 100 or 200\n",
        "\n",
        "    almost_there(90) --> True\n",
        "    almost_there(104) --> True\n",
        "    almost_there(150) --> False\n",
        "    almost_there(209) --> True\n",
        "    \n",
        "NOTE: `abs(num)` returns the absolute value of a number"
      ]
    },
    {
      "cell_type": "code",
      "execution_count": 11,
      "metadata": {
        "id": "Awa8sIwok2f0",
        "colab": {
          "base_uri": "https://localhost:8080/"
        },
        "outputId": "695d6a28-bc6a-4d4a-85d4-cb8b281abf5c"
      },
      "outputs": [
        {
          "output_type": "stream",
          "name": "stdout",
          "text": [
            "True\n",
            "True\n",
            "False\n",
            "True\n"
          ]
        }
      ],
      "source": [
        "def almost_there(x):\n",
        "  if 90 <= x <= 110 or 190 <= x <= 210:\n",
        "    return True\n",
        "  else:\n",
        "    return False\n",
        "\n",
        "print(almost_there(90))\n",
        "print(almost_there(104))\n",
        "print(almost_there(150))\n",
        "print(almost_there(209))"
      ]
    },
    {
      "cell_type": "markdown",
      "metadata": {
        "id": "hrXgqGKDk2f0"
      },
      "source": [
        "#### BLACKJACK: Given three integers between 1 and 11, if their sum is less than or equal to 21, return their sum. If their sum exceeds 21 *and* there's an eleven, reduce the total sum by 10. Finally, if the sum  exceeds 21, return 'BUST'\n",
        "    blackjack(5,6,7) --> 18\n",
        "    blackjack(9,9,9) --> 'BUST'\n",
        "    blackjack(9,9,11) --> 19"
      ]
    },
    {
      "cell_type": "code",
      "execution_count": 14,
      "metadata": {
        "id": "2caVvKCJk2f0",
        "colab": {
          "base_uri": "https://localhost:8080/"
        },
        "outputId": "ac3e6ff0-9f24-4bf5-fc63-3dcada14b3d6"
      },
      "outputs": [
        {
          "output_type": "stream",
          "name": "stdout",
          "text": [
            "18\n",
            "BUST!\n",
            "19\n",
            "One or more of the numbers do not fall between 1 and 11, exiting!\n"
          ]
        }
      ],
      "source": [
        "def blackjack(x, y, z):\n",
        "  if x in range(1,12) and y in range(1,12) and z in range(1,12):\n",
        "    sum = x + y + z\n",
        "    if sum <= 21:\n",
        "      return sum\n",
        "    elif sum > 21 and (x == 11 or y == 11 or z == 11):\n",
        "      return sum - 10\n",
        "    elif sum > 21:\n",
        "      return 'BUST!'\n",
        "  else:\n",
        "    return 'One or more of the numbers do not fall between 1 and 11, exiting!'\n",
        "\n",
        "print(blackjack(5, 6, 7))\n",
        "print(blackjack(9, 9, 9))\n",
        "print(blackjack(9, 9, 11))\n",
        "print(blackjack(9, 9, 12))"
      ]
    }
  ],
  "metadata": {
    "kernelspec": {
      "display_name": "Python 3",
      "language": "python",
      "name": "python3"
    },
    "language_info": {
      "codemirror_mode": {
        "name": "ipython",
        "version": 3
      },
      "file_extension": ".py",
      "mimetype": "text/x-python",
      "name": "python",
      "nbconvert_exporter": "python",
      "pygments_lexer": "ipython3",
      "version": "3.8.5"
    },
    "colab": {
      "name": "Assignment_3_Muhammad_El_Sergani.ipynb",
      "provenance": [],
      "collapsed_sections": []
    }
  },
  "nbformat": 4,
  "nbformat_minor": 0
}